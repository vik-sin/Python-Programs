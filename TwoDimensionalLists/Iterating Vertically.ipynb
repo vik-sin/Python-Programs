{
 "cells": [
  {
   "cell_type": "code",
   "execution_count": 2,
   "metadata": {},
   "outputs": [
    {
     "name": "stdout",
     "output_type": "stream",
     "text": [
      "24 3\n"
     ]
    }
   ],
   "source": [
    "#METHOD-1\n",
    "\n",
    "def larColSum(li):\n",
    "    n= len(li)\n",
    "    m= len(li[0])\n",
    "    maxSum= -1\n",
    "    maxColIndex= -1\n",
    "    \n",
    "    for j in range(m):\n",
    "        sum=0\n",
    "        for i in range(n):\n",
    "            sum+= li[i][j]\n",
    "        if sum>maxSum:\n",
    "            maxSum= sum\n",
    "            maxColIndex= j\n",
    "    return maxSum, maxColIndex\n",
    "\n",
    "li= [[1,2,3,4],[5,6,7,8],[9,10,11,12]]\n",
    "larSum, larColIndex = larColSum(li)\n",
    "print(larSum, larColIndex)"
   ]
  },
  {
   "cell_type": "code",
   "execution_count": 3,
   "metadata": {},
   "outputs": [
    {
     "name": "stdout",
     "output_type": "stream",
     "text": [
      "24 3\n"
     ]
    }
   ],
   "source": [
    "#METHOD-2\n",
    "\n",
    "def larColSum(li):\n",
    "    n= len(li)\n",
    "    m= len(li[0])\n",
    "    maxSum= -1\n",
    "    maxColIndex= -1\n",
    "    \n",
    "    for j in range(m):\n",
    "        sum=0\n",
    "        for row in li:\n",
    "            sum+= row[j]\n",
    "        if sum>maxSum:\n",
    "            maxSum= sum\n",
    "            maxColIndex= j\n",
    "    return maxSum, maxColIndex\n",
    "\n",
    "li= [[1,2,3,4],[5,6,7,8],[9,10,11,12]]\n",
    "larSum, larColIndex = larColSum(li)\n",
    "print(larSum, larColIndex)"
   ]
  },
  {
   "cell_type": "code",
   "execution_count": 5,
   "metadata": {},
   "outputs": [
    {
     "name": "stdout",
     "output_type": "stream",
     "text": [
      "3 4 1  2  3  4 5  6  7  8 9 10 11 12\n",
      "1 5 9 10 6 2 3 7 11 12 8 4 "
     ]
    }
   ],
   "source": [
    "def wavePrint(arr):\n",
    "    # Please add your code here\n",
    "    n= len(arr)\n",
    "    m= len(arr[0])\n",
    "    \n",
    "    for j in range(m):\n",
    "        if j%2==0:\n",
    "            for i in range(n):\n",
    "                print(arr[i][j], end=\" \")\n",
    "        else:\n",
    "            for i in range(n-1,-1,-1):\n",
    "                print(arr[i][j], end=\" \")   \n",
    "\n",
    "#Main\n",
    "l=[int(i) for i in input().strip().split()]\n",
    "m, n=l[0], l[1]\n",
    "arr = [ [ l[(j*n)+i+2] for i in range(n)] for j in range(m)]\n",
    "wavePrint(arr)\n"
   ]
  },
  {
   "cell_type": "code",
   "execution_count": 3,
   "metadata": {},
   "outputs": [
    {
     "name": "stdout",
     "output_type": "stream",
     "text": [
      "4 2\n",
      "1 2 3 4 5 6 7 8\n",
      "3 7 11 15\n"
     ]
    }
   ],
   "source": [
    "def rowWiseSum(arr):\n",
    "    # Please add your code here\n",
    "    l=[]\n",
    "    for row in arr:\n",
    "        sum=0\n",
    "        for ele in row:\n",
    "            sum+= ele\n",
    "        l.append(sum)\n",
    "    #     l.append(sum)\n",
    "    # ans= ''.join( str(ele) for ele in l)\n",
    "    return l\n",
    "\n",
    "#Main\n",
    "m, n=(int(i) for i in input().strip().split(' '))\n",
    "l=[int(i) for i in input().strip().split(' ')]\n",
    "arr = [ [ l[(j*n)+i] for i in range(n)] for j in range(m)]\n",
    "l=rowWiseSum(arr)\n",
    "print(*l)"
   ]
  },
  {
   "cell_type": "code",
   "execution_count": null,
   "metadata": {},
   "outputs": [],
   "source": []
  }
 ],
 "metadata": {
  "kernelspec": {
   "display_name": "Python 3",
   "language": "python",
   "name": "python3"
  },
  "language_info": {
   "codemirror_mode": {
    "name": "ipython",
    "version": 3
   },
   "file_extension": ".py",
   "mimetype": "text/x-python",
   "name": "python",
   "nbconvert_exporter": "python",
   "pygments_lexer": "ipython3",
   "version": "3.7.4"
  }
 },
 "nbformat": 4,
 "nbformat_minor": 2
}
