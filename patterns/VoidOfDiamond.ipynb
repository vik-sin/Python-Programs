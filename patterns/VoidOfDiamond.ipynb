{
 "cells": [
  {
   "cell_type": "code",
   "execution_count": 3,
   "metadata": {},
   "outputs": [
    {
     "name": "stdout",
     "output_type": "stream",
     "text": [
      "5\n",
      "*****\n",
      "** **\n",
      "*   *\n",
      "** **\n",
      "*****\n"
     ]
    }
   ],
   "source": [
    "n= int(input())\n",
    "mid= (n+1)//2\n",
    "#print(mid)\n",
    "i=1\n",
    "while i<=n:\n",
    "    \n",
    "    if i<=mid:\n",
    "        p= i\n",
    "    else:\n",
    "        p= (2*mid)-i\n",
    "    \n",
    "    # printing ith row\n",
    "    j=1\n",
    "    \n",
    "    #loop-1: stars\n",
    "    k=1\n",
    "    while k<=(mid-p+1):\n",
    "        print(\"*\", end='')\n",
    "        k= k+1\n",
    "        j=j+1\n",
    "        \n",
    "    #loop-2: spaces\n",
    "    sp=1\n",
    "    #print(2*p-2, end='')\n",
    "    while sp<(2*p-2):\n",
    "        print(\" \", end=\"\")\n",
    "        sp= sp+1\n",
    "        j= j+1\n",
    "        \n",
    "    #loop-3: stars\n",
    "    while j<=5:\n",
    "        print(\"*\", end='')\n",
    "        j=j+1\n",
    "    \n",
    "    print()\n",
    "    i=i+1"
   ]
  },
  {
   "cell_type": "code",
   "execution_count": null,
   "metadata": {},
   "outputs": [],
   "source": []
  }
 ],
 "metadata": {
  "kernelspec": {
   "display_name": "Python 3",
   "language": "python",
   "name": "python3"
  },
  "language_info": {
   "codemirror_mode": {
    "name": "ipython",
    "version": 3
   },
   "file_extension": ".py",
   "mimetype": "text/x-python",
   "name": "python",
   "nbconvert_exporter": "python",
   "pygments_lexer": "ipython3",
   "version": "3.7.4"
  }
 },
 "nbformat": 4,
 "nbformat_minor": 2
}
