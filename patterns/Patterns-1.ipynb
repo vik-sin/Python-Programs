{
 "cells": [
  {
   "cell_type": "code",
   "execution_count": 1,
   "metadata": {},
   "outputs": [
    {
     "name": "stdout",
     "output_type": "stream",
     "text": [
      "4\n",
      "****\n",
      "****\n",
      "****\n",
      "****\n"
     ]
    }
   ],
   "source": [
    "n= int(input())\n",
    "i=1\n",
    "while i<=n:\n",
    "    #print ith row\n",
    "    j=1\n",
    "    while j<=n:\n",
    "        #print jth column\n",
    "        print('*', end='')\n",
    "        j=j+1\n",
    "    \n",
    "    print()\n",
    "    i=i+1\n"
   ]
  },
  {
   "cell_type": "code",
   "execution_count": 2,
   "metadata": {},
   "outputs": [
    {
     "name": "stdout",
     "output_type": "stream",
     "text": [
      "4\n",
      "1111\n",
      "2222\n",
      "3333\n",
      "4444\n"
     ]
    }
   ],
   "source": [
    "m= int(input())\n",
    "i=1\n",
    "while i<=m:\n",
    "    j=1\n",
    "    while j<=m:\n",
    "        print(i,end='')\n",
    "        j=j+1\n",
    "    \n",
    "    print()\n",
    "    i=i+1"
   ]
  },
  {
   "cell_type": "code",
   "execution_count": 3,
   "metadata": {},
   "outputs": [
    {
     "name": "stdout",
     "output_type": "stream",
     "text": [
      "4\n",
      "1234\n",
      "1234\n",
      "1234\n",
      "1234\n"
     ]
    }
   ],
   "source": [
    "m= int(input())\n",
    "i=1\n",
    "while i<=m:\n",
    "    j=1\n",
    "    while j<=m:\n",
    "        print(j,end='')\n",
    "        j=j+1\n",
    "    \n",
    "    print()\n",
    "    i=i+1"
   ]
  },
  {
   "cell_type": "code",
   "execution_count": 4,
   "metadata": {},
   "outputs": [
    {
     "name": "stdout",
     "output_type": "stream",
     "text": [
      "4\n",
      "4321\n",
      "4321\n",
      "4321\n",
      "4321\n"
     ]
    }
   ],
   "source": [
    "m= int(input())\n",
    "i=1\n",
    "while i<=m:\n",
    "    j=1\n",
    "    while j<=m:\n",
    "        print(n-j+1,end='')\n",
    "        j=j+1\n",
    "    \n",
    "    print()\n",
    "    i=i+1"
   ]
  },
  {
   "cell_type": "code",
   "execution_count": 5,
   "metadata": {},
   "outputs": [
    {
     "name": "stdout",
     "output_type": "stream",
     "text": [
      "4\n",
      "1\n",
      "12\n",
      "123\n",
      "1234\n"
     ]
    }
   ],
   "source": [
    "p= int(input())\n",
    "i=1\n",
    "while i<=p:\n",
    "    j=1\n",
    "    while j<=i:\n",
    "        print(j, end='')\n",
    "        j=j+1\n",
    "    \n",
    "    print()\n",
    "    i=i+1"
   ]
  },
  {
   "cell_type": "code",
   "execution_count": 6,
   "metadata": {},
   "outputs": [
    {
     "name": "stdout",
     "output_type": "stream",
     "text": [
      "4\n",
      "1\n",
      "23\n",
      "345\n",
      "4567\n"
     ]
    }
   ],
   "source": [
    "p= int(input())\n",
    "i=1\n",
    "while i<=p:\n",
    "    j=1\n",
    "    counter=i\n",
    "    while j<=i:\n",
    "        print(counter, end='')\n",
    "        counter= counter+1\n",
    "        j= j+1\n",
    "    \n",
    "    print()\n",
    "    i=i+1"
   ]
  },
  {
   "cell_type": "code",
   "execution_count": 8,
   "metadata": {},
   "outputs": [
    {
     "name": "stdout",
     "output_type": "stream",
     "text": [
      "4\n",
      "1\n",
      "23\n",
      "456\n",
      "78910\n"
     ]
    }
   ],
   "source": [
    "p= int(input())\n",
    "i=1\n",
    "counter=1\n",
    "while i<=p:\n",
    "    j=1\n",
    "    while j<=i:\n",
    "        print(counter, end='')\n",
    "        counter= counter+1\n",
    "        j= j+1\n",
    "    \n",
    "    print()\n",
    "    i=i+1"
   ]
  },
  {
   "cell_type": "code",
   "execution_count": 3,
   "metadata": {},
   "outputs": [
    {
     "name": "stdout",
     "output_type": "stream",
     "text": [
      "5\n",
      "E\n"
     ]
    }
   ],
   "source": [
    "# print kth alphabet:\n",
    "k= int(input())\n",
    "x= ord('A')\n",
    "asciiTarget= x+k-1\n",
    "targetChar= chr(asciiTarget)\n",
    "print(targetChar)"
   ]
  },
  {
   "cell_type": "code",
   "execution_count": 5,
   "metadata": {},
   "outputs": [
    {
     "name": "stdout",
     "output_type": "stream",
     "text": [
      "4\n",
      "ABCD\n",
      "ABCD\n",
      "ABCD\n",
      "ABCD\n"
     ]
    }
   ],
   "source": [
    "c= int(input())\n",
    "i=1\n",
    "while i<=c:\n",
    "    j=1\n",
    "    while j<=c:\n",
    "        charP= chr(ord('A')+j-1)\n",
    "        print(charP, end='')\n",
    "        j=j+1\n",
    "        \n",
    "    print()\n",
    "    i=i+1"
   ]
  },
  {
   "cell_type": "code",
   "execution_count": 7,
   "metadata": {},
   "outputs": [
    {
     "name": "stdout",
     "output_type": "stream",
     "text": [
      "4\n",
      "ABCD\n",
      "BCDE\n",
      "CDEF\n",
      "DEFG\n"
     ]
    }
   ],
   "source": [
    "c= int(input())\n",
    "i=1\n",
    "while i<=c:\n",
    "    j=1\n",
    "    startChar= chr(ord('A')+i-1)\n",
    "    \n",
    "    while j<=c:\n",
    "        charP= chr(ord(startChar)+j-1)\n",
    "        print(charP, end='')\n",
    "        j=j+1\n",
    "        \n",
    "    print()\n",
    "    i=i+1"
   ]
  }
 ],
 "metadata": {
  "kernelspec": {
   "display_name": "Python 3",
   "language": "python",
   "name": "python3"
  },
  "language_info": {
   "codemirror_mode": {
    "name": "ipython",
    "version": 3
   },
   "file_extension": ".py",
   "mimetype": "text/x-python",
   "name": "python",
   "nbconvert_exporter": "python",
   "pygments_lexer": "ipython3",
   "version": "3.7.4"
  }
 },
 "nbformat": 4,
 "nbformat_minor": 2
}
