{
 "cells": [
  {
   "cell_type": "markdown",
   "metadata": {},
   "source": [
    "1       1\n",
    " 2     2\n",
    "  3   3\n",
    "   4 4\n",
    "    5\n",
    "   4 4\n",
    "  3   3\n",
    " 2     2\n",
    "1       1"
   ]
  },
  {
   "cell_type": "code",
   "execution_count": 9,
   "metadata": {},
   "outputs": [
    {
     "name": "stdout",
     "output_type": "stream",
     "text": [
      "5\n",
      "1       1\n",
      " 2     2\n",
      "  3   3\n",
      "   4 4\n",
      "    5\n",
      "   4 4\n",
      "  3   3\n",
      " 2     2\n",
      "1       1\n"
     ]
    }
   ],
   "source": [
    "n= int(input())\n",
    "mid=(n+1)//2\n",
    "i=1\n",
    "while i<=(2*n -1):\n",
    "    if i<=n:\n",
    "        p=i\n",
    "    else:\n",
    "        p= (2*n)-i\n",
    "    \n",
    "    # printing ith row\n",
    "    j=1\n",
    "    \n",
    "    #loop-1: spaces\n",
    "    sp=1\n",
    "    while sp<p:\n",
    "        print(' ', end='')\n",
    "        sp= sp+1\n",
    "    \n",
    "    #\n",
    "    print(p, end='')\n",
    "    \n",
    "    #loop-2:spaces\n",
    "    sp=1\n",
    "    while sp<2*(n-p):\n",
    "        print(' ', end='')\n",
    "        sp= sp+1\n",
    "    \n",
    "    #\n",
    "    if (i!=n):\n",
    "        print(p, end='')\n",
    "    \n",
    "    print()\n",
    "    i= i+1"
   ]
  },
  {
   "cell_type": "code",
   "execution_count": 10,
   "metadata": {},
   "outputs": [
    {
     "name": "stdout",
     "output_type": "stream",
     "text": [
      "3\n"
     ]
    },
    {
     "ename": "AttributeError",
     "evalue": "'function' object has no attribute 'split'",
     "output_type": "error",
     "traceback": [
      "\u001b[1;31m---------------------------------------------------------------------------\u001b[0m",
      "\u001b[1;31mAttributeError\u001b[0m                            Traceback (most recent call last)",
      "\u001b[1;32m<ipython-input-10-51be73157795>\u001b[0m in \u001b[0;36m<module>\u001b[1;34m\u001b[0m\n\u001b[0;32m     15\u001b[0m \u001b[1;33m\u001b[0m\u001b[0m\n\u001b[0;32m     16\u001b[0m \u001b[0mn\u001b[0m\u001b[1;33m=\u001b[0m \u001b[0mint\u001b[0m\u001b[1;33m(\u001b[0m\u001b[0minput\u001b[0m\u001b[1;33m(\u001b[0m\u001b[1;33m)\u001b[0m\u001b[1;33m)\u001b[0m\u001b[1;33m\u001b[0m\u001b[1;33m\u001b[0m\u001b[0m\n\u001b[1;32m---> 17\u001b[1;33m \u001b[0mnum\u001b[0m\u001b[1;33m=\u001b[0m \u001b[1;33m[\u001b[0m\u001b[0mint\u001b[0m\u001b[1;33m(\u001b[0m\u001b[0mi\u001b[0m\u001b[1;33m)\u001b[0m \u001b[1;32mfor\u001b[0m \u001b[0mi\u001b[0m \u001b[1;32min\u001b[0m \u001b[0minput\u001b[0m\u001b[1;33m.\u001b[0m\u001b[0msplit\u001b[0m\u001b[1;33m(\u001b[0m\u001b[1;33m)\u001b[0m\u001b[1;33m]\u001b[0m\u001b[1;33m\u001b[0m\u001b[1;33m\u001b[0m\u001b[0m\n\u001b[0m\u001b[0;32m     18\u001b[0m \u001b[1;33m\u001b[0m\u001b[0m\n\u001b[0;32m     19\u001b[0m \u001b[1;32mfor\u001b[0m \u001b[0mx\u001b[0m \u001b[1;32min\u001b[0m \u001b[0mrange\u001b[0m\u001b[1;33m(\u001b[0m\u001b[1;36m0\u001b[0m\u001b[1;33m,\u001b[0m\u001b[0mn\u001b[0m\u001b[1;33m)\u001b[0m\u001b[1;33m:\u001b[0m\u001b[1;33m\u001b[0m\u001b[1;33m\u001b[0m\u001b[0m\n",
      "\u001b[1;31mAttributeError\u001b[0m: 'function' object has no attribute 'split'"
     ]
    }
   ],
   "source": [
    "def fac3(n):\n",
    "    cnt=1\n",
    "    d=2\n",
    "    \n",
    "    while(cnt<=3 and d<=n):\n",
    "        if n%d==0:\n",
    "            cnt= cnt+1\n",
    "        if cnt==3:\n",
    "            break\n",
    "        d= d+1    \n",
    "    else:\n",
    "        print(\"NO\")\n",
    "        \n",
    "    print(\"YES\")        \n",
    "            \n",
    "n= int(input())\n",
    "num= [int(i) for i in input.split()]\n",
    "\n",
    "for x in range(0,n):\n",
    "    fac3(num[x])\n"
   ]
  },
  {
   "cell_type": "code",
   "execution_count": null,
   "metadata": {},
   "outputs": [],
   "source": []
  }
 ],
 "metadata": {
  "kernelspec": {
   "display_name": "Python 3",
   "language": "python",
   "name": "python3"
  },
  "language_info": {
   "codemirror_mode": {
    "name": "ipython",
    "version": 3
   },
   "file_extension": ".py",
   "mimetype": "text/x-python",
   "name": "python",
   "nbconvert_exporter": "python",
   "pygments_lexer": "ipython3",
   "version": "3.7.4"
  }
 },
 "nbformat": 4,
 "nbformat_minor": 2
}
