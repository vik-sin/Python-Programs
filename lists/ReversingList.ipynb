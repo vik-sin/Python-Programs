{
 "cells": [
  {
   "cell_type": "code",
   "execution_count": 5,
   "metadata": {},
   "outputs": [
    {
     "name": "stdout",
     "output_type": "stream",
     "text": [
      "[6, 5, 4, 3, 2, 1]\n"
     ]
    }
   ],
   "source": [
    "# Method-1:\n",
    "def reverse(li):\n",
    "    n= len(li)\n",
    "    for i in range(n//2):\n",
    "        li[i], li[n-i-1] = li[n-i-1], li[i]\n",
    "\n",
    "        li= [1,2,3,4,5,6]\n",
    "reverse(li)\n",
    "print(li)"
   ]
  },
  {
   "cell_type": "code",
   "execution_count": 6,
   "metadata": {},
   "outputs": [
    {
     "name": "stdout",
     "output_type": "stream",
     "text": [
      "[6, 5, 4, 3, 2, 1]\n"
     ]
    }
   ],
   "source": [
    "# Method-2:\n",
    "def reverse(li):\n",
    "    n= len(li)\n",
    "    for i in range(n//2):\n",
    "        li[i], li[-1-i] = li[-1-i], li[i]\n",
    "\n",
    "li2= [1,2,3,4,5,6]\n",
    "reverse(li2)\n",
    "print(li)"
   ]
  },
  {
   "cell_type": "code",
   "execution_count": 13,
   "metadata": {},
   "outputs": [
    {
     "name": "stdout",
     "output_type": "stream",
     "text": [
      "[6, 5, 4, 3, 2, 1]\n"
     ]
    }
   ],
   "source": [
    "# Method-3:\n",
    "li3= [1,2,3,4,5,6]\n",
    "li3= li3[::-1]\n",
    "print(li3)\n",
    "li3= li3.sort()\n",
    "li3"
   ]
  },
  {
   "cell_type": "code",
   "execution_count": null,
   "metadata": {},
   "outputs": [],
   "source": []
  }
 ],
 "metadata": {
  "kernelspec": {
   "display_name": "Python 3",
   "language": "python",
   "name": "python3"
  },
  "language_info": {
   "codemirror_mode": {
    "name": "ipython",
    "version": 3
   },
   "file_extension": ".py",
   "mimetype": "text/x-python",
   "name": "python",
   "nbconvert_exporter": "python",
   "pygments_lexer": "ipython3",
   "version": "3.7.4"
  }
 },
 "nbformat": 4,
 "nbformat_minor": 2
}
