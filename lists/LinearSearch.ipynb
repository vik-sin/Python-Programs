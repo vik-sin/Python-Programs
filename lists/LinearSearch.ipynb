{
 "cells": [
  {
   "cell_type": "markdown",
   "metadata": {},
   "source": [
    "### Linear Search"
   ]
  },
  {
   "cell_type": "code",
   "execution_count": 4,
   "metadata": {},
   "outputs": [
    {
     "name": "stdout",
     "output_type": "stream",
     "text": [
      "5\n",
      "1 2 3 4 5\n",
      "8\n",
      "-1\n"
     ]
    }
   ],
   "source": [
    "n= int(input())\n",
    "li= [int(x) for x in input().split()]\n",
    "val= int(input())\n",
    "for i in range(n):\n",
    "    if li[i]==val:\n",
    "        print(i)\n",
    "        break\n",
    "else:\n",
    "    print(\"-1\")"
   ]
  },
  {
   "cell_type": "markdown",
   "metadata": {},
   "source": [
    "### Linear Search through function:"
   ]
  },
  {
   "cell_type": "code",
   "execution_count": 7,
   "metadata": {},
   "outputs": [
    {
     "name": "stdout",
     "output_type": "stream",
     "text": [
      "100\n",
      "-1\n"
     ]
    }
   ],
   "source": [
    "def linear_search(li, ele):\n",
    "    # li is the list and ele is the value to be searched\n",
    "    for i in range(len(li)):\n",
    "        if li[i]==ele:\n",
    "            return(i)\n",
    "    return(-1)\n",
    "li= [1,2,3,6,5,4]\n",
    "ele= int(input())\n",
    "index= linear_search(li,ele)\n",
    "print(index)"
   ]
  },
  {
   "cell_type": "code",
   "execution_count": null,
   "metadata": {},
   "outputs": [],
   "source": []
  }
 ],
 "metadata": {
  "kernelspec": {
   "display_name": "Python 3",
   "language": "python",
   "name": "python3"
  },
  "language_info": {
   "codemirror_mode": {
    "name": "ipython",
    "version": 3
   },
   "file_extension": ".py",
   "mimetype": "text/x-python",
   "name": "python",
   "nbconvert_exporter": "python",
   "pygments_lexer": "ipython3",
   "version": "3.7.4"
  }
 },
 "nbformat": 4,
 "nbformat_minor": 2
}
