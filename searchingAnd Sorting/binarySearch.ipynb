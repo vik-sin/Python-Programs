{
 "cells": [
  {
   "cell_type": "code",
   "execution_count": 2,
   "metadata": {},
   "outputs": [
    {
     "name": "stdout",
     "output_type": "stream",
     "text": [
      "Enter no. of elements in an array.\n",
      "5\n",
      "Enter an array.\n",
      "45 65 6 25 52\n",
      "Enter a value to be searched.5\n",
      "-1\n"
     ]
    }
   ],
   "source": [
    "print(\"Enter no. of elements in an array.\")\n",
    "n= int(input())\n",
    "print(\"Enter an array.\")\n",
    "li= [int(x) for x in input().split()]\n",
    "val= int(input(\"Enter a value to be searched.\"))\n",
    "start=0\n",
    "end= len(li)-1\n",
    "\n",
    "while (start<=end):\n",
    "    mid= (start+end)//2\n",
    "    \n",
    "    if li[mid]==val:\n",
    "        print(mid)\n",
    "        break\n",
    "    elif li[mid]<val:\n",
    "        start= mid+1\n",
    "    elif li[mid]>val:\n",
    "        end= mid-1\n",
    "    \n",
    "else:\n",
    "    print(\"-1\")"
   ]
  },
  {
   "cell_type": "code",
   "execution_count": null,
   "metadata": {},
   "outputs": [],
   "source": []
  }
 ],
 "metadata": {
  "kernelspec": {
   "display_name": "Python 3",
   "language": "python",
   "name": "python3"
  },
  "language_info": {
   "codemirror_mode": {
    "name": "ipython",
    "version": 3
   },
   "file_extension": ".py",
   "mimetype": "text/x-python",
   "name": "python",
   "nbconvert_exporter": "python",
   "pygments_lexer": "ipython3",
   "version": "3.7.4"
  }
 },
 "nbformat": 4,
 "nbformat_minor": 2
}
