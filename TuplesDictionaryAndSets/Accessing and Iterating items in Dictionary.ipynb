{
 "cells": [
  {
   "cell_type": "markdown",
   "metadata": {},
   "source": [
    "#### Accessing items"
   ]
  },
  {
   "cell_type": "code",
   "execution_count": 2,
   "metadata": {},
   "outputs": [
    {
     "name": "stdout",
     "output_type": "stream",
     "text": [
      "{1: 2, 3: 4, 'list': [5, 6], 'tup': (7, 8), 'dict': {9, 10}}\n"
     ]
    }
   ],
   "source": [
    "a= {1:2, 3:4, 'list':[5,6], 'tup':(7,8), 'dict':{9,10}}\n",
    "print(a)"
   ]
  },
  {
   "cell_type": "code",
   "execution_count": 3,
   "metadata": {},
   "outputs": [
    {
     "name": "stdout",
     "output_type": "stream",
     "text": [
      "2\n",
      "(7, 8)\n",
      "{9, 10}\n"
     ]
    }
   ],
   "source": [
    "# Way-1: using []\n",
    "print(a[1])\n",
    "print(a['tup'])\n",
    "print(a['dict'])"
   ]
  },
  {
   "cell_type": "code",
   "execution_count": 5,
   "metadata": {},
   "outputs": [
    {
     "name": "stdout",
     "output_type": "stream",
     "text": [
      "[5, 6]\n",
      "None\n",
      "Not present\n"
     ]
    }
   ],
   "source": [
    "#Way-2: using get() method {won't give error if key isn't present in a dictionary}\n",
    "print( a.get('list') )\n",
    "print(a.get('li'))\n",
    "print(a.get('li', \"Not present\"))"
   ]
  },
  {
   "cell_type": "code",
   "execution_count": 9,
   "metadata": {},
   "outputs": [
    {
     "data": {
      "text/plain": [
       "dict_keys([1, 3, 'list', 'tup', 'dict'])"
      ]
     },
     "execution_count": 9,
     "metadata": {},
     "output_type": "execute_result"
    }
   ],
   "source": [
    "# To get all the keys\n",
    "a.keys()"
   ]
  },
  {
   "cell_type": "code",
   "execution_count": 10,
   "metadata": {},
   "outputs": [
    {
     "data": {
      "text/plain": [
       "dict_values([2, 4, [5, 6], (7, 8), {9, 10}])"
      ]
     },
     "execution_count": 10,
     "metadata": {},
     "output_type": "execute_result"
    }
   ],
   "source": [
    "#To get all values\n",
    "a.values()"
   ]
  },
  {
   "cell_type": "code",
   "execution_count": 11,
   "metadata": {},
   "outputs": [
    {
     "data": {
      "text/plain": [
       "dict_items([(1, 2), (3, 4), ('list', [5, 6]), ('tup', (7, 8)), ('dict', {9, 10})])"
      ]
     },
     "execution_count": 11,
     "metadata": {},
     "output_type": "execute_result"
    }
   ],
   "source": [
    "# To get all key-value pairs\n",
    "a.items()"
   ]
  },
  {
   "cell_type": "markdown",
   "metadata": {},
   "source": [
    "#### Iterating"
   ]
  },
  {
   "cell_type": "code",
   "execution_count": 14,
   "metadata": {},
   "outputs": [
    {
     "name": "stdout",
     "output_type": "stream",
     "text": [
      "1\n",
      "3\n",
      "list\n",
      "tup\n",
      "dict\n",
      "1 3 list tup dict "
     ]
    }
   ],
   "source": [
    "#To get all keys\n",
    "#way-1\n",
    "for i in a:\n",
    "    print(i)\n",
    "#way-2\n",
    "for i in a.keys():\n",
    "    print(i, end=\" \")"
   ]
  },
  {
   "cell_type": "code",
   "execution_count": 16,
   "metadata": {},
   "outputs": [
    {
     "name": "stdout",
     "output_type": "stream",
     "text": [
      "2\n",
      "4\n",
      "[5, 6]\n",
      "(7, 8)\n",
      "{9, 10}\n",
      "2 4 [5, 6] (7, 8) {9, 10} "
     ]
    }
   ],
   "source": [
    "#To get all values\n",
    "# way-1\n",
    "for i in a:\n",
    "    print(a[i])\n",
    "    \n",
    "#way-2\n",
    "for i in a.values():\n",
    "    print(i, end=\" \")"
   ]
  },
  {
   "cell_type": "code",
   "execution_count": 18,
   "metadata": {},
   "outputs": [
    {
     "name": "stdout",
     "output_type": "stream",
     "text": [
      "1 2\n",
      "3 4\n",
      "list [5, 6]\n",
      "tup (7, 8)\n",
      "dict {9, 10}\n"
     ]
    }
   ],
   "source": [
    "#To print key-vale pairs\n",
    "for i in a:\n",
    "    print(i, a[i])"
   ]
  },
  {
   "cell_type": "code",
   "execution_count": null,
   "metadata": {},
   "outputs": [],
   "source": []
  }
 ],
 "metadata": {
  "kernelspec": {
   "display_name": "Python 3",
   "language": "python",
   "name": "python3"
  },
  "language_info": {
   "codemirror_mode": {
    "name": "ipython",
    "version": 3
   },
   "file_extension": ".py",
   "mimetype": "text/x-python",
   "name": "python",
   "nbconvert_exporter": "python",
   "pygments_lexer": "ipython3",
   "version": "3.7.4"
  }
 },
 "nbformat": 4,
 "nbformat_minor": 2
}
