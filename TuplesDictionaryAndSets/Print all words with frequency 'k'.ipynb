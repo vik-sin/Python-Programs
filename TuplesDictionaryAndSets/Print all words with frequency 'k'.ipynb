{
 "cells": [
  {
   "cell_type": "code",
   "execution_count": 1,
   "metadata": {},
   "outputs": [],
   "source": [
    "def printKFreqWords(s,k):\n",
    "    \n",
    "    words= s.split()\n",
    "    d= {}\n",
    "    \n",
    "    for w in words:\n",
    "        d[w]= d.get(w,0) + 1\n",
    "        \n",
    "    for w in d:\n",
    "        if d[w]==k:\n",
    "            print(w)"
   ]
  },
  {
   "cell_type": "code",
   "execution_count": 2,
   "metadata": {},
   "outputs": [
    {
     "name": "stdout",
     "output_type": "stream",
     "text": [
      "this is a word string having many many word\n",
      "2\n",
      "word\n",
      "many\n"
     ]
    }
   ],
   "source": [
    "s= input()\n",
    "k=int(input())\n",
    "printKFreqWords(s,k)"
   ]
  },
  {
   "cell_type": "code",
   "execution_count": 3,
   "metadata": {},
   "outputs": [],
   "source": [
    "s= \"this is a word string having many many word\""
   ]
  },
  {
   "cell_type": "code",
   "execution_count": 4,
   "metadata": {},
   "outputs": [
    {
     "name": "stdout",
     "output_type": "stream",
     "text": [
      "1\n",
      "this\n",
      "is\n",
      "a\n",
      "string\n",
      "having\n"
     ]
    }
   ],
   "source": [
    "k= int(input())\n",
    "printKFreqWords(s,k)"
   ]
  }
 ],
 "metadata": {
  "kernelspec": {
   "display_name": "Python 3",
   "language": "python",
   "name": "python3"
  },
  "language_info": {
   "codemirror_mode": {
    "name": "ipython",
    "version": 3
   },
   "file_extension": ".py",
   "mimetype": "text/x-python",
   "name": "python",
   "nbconvert_exporter": "python",
   "pygments_lexer": "ipython3",
   "version": "3.7.4"
  }
 },
 "nbformat": 4,
 "nbformat_minor": 2
}
