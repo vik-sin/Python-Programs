{
 "cells": [
  {
   "cell_type": "markdown",
   "metadata": {},
   "source": [
    "### Different ways to create a dictionary"
   ]
  },
  {
   "cell_type": "code",
   "execution_count": 1,
   "metadata": {},
   "outputs": [
    {
     "name": "stdout",
     "output_type": "stream",
     "text": [
      "{'vikas': 10, 'singhal': 20, 'viksin': 30}\n",
      "3\n"
     ]
    }
   ],
   "source": [
    "# Way-1\n",
    "a= {\"vikas\":10, \"singhal\":20, \"viksin\":30}\n",
    "print(a)\n",
    "print(len(a))"
   ]
  },
  {
   "cell_type": "code",
   "execution_count": 2,
   "metadata": {},
   "outputs": [
    {
     "name": "stdout",
     "output_type": "stream",
     "text": [
      "{'vikas': 10, 'singhal': 20, 'viksin': 30}\n"
     ]
    }
   ],
   "source": [
    "# Way-2 : copying one dictionary to another dictionary\n",
    "b= a.copy()\n",
    "print(b)"
   ]
  },
  {
   "cell_type": "code",
   "execution_count": 4,
   "metadata": {},
   "outputs": [
    {
     "name": "stdout",
     "output_type": "stream",
     "text": [
      "{'Python': 5, 'is': 10, 'wonderful': 15}\n"
     ]
    }
   ],
   "source": [
    "#Way-3: using dict method(list of tuples is passedas an argument where each tuple contains two elements- key and value)\n",
    "c= dict([(\"Python\",5), (\"is\",10), (\"wonderful\",15)])\n",
    "print(c)"
   ]
  },
  {
   "cell_type": "code",
   "execution_count": 6,
   "metadata": {},
   "outputs": [
    {
     "name": "stdout",
     "output_type": "stream",
     "text": [
      "{'a': None, 'b': None, 'c': None}\n",
      "{'char1': 0, 'char2': 0, 'char3': 0}\n"
     ]
    }
   ],
   "source": [
    "#Way-4 : using dict.fromkeys() method (all keys will be assigned same value, default is None)\n",
    "d= dict.fromkeys([\"a\", \"b\", \"c\"])\n",
    "print(d)\n",
    "\n",
    "e= dict.fromkeys([\"char1\", \"char2\", \"char3\"], 0)\n",
    "print(e)"
   ]
  },
  {
   "cell_type": "code",
   "execution_count": null,
   "metadata": {},
   "outputs": [],
   "source": []
  }
 ],
 "metadata": {
  "kernelspec": {
   "display_name": "Python 3",
   "language": "python",
   "name": "python3"
  },
  "language_info": {
   "codemirror_mode": {
    "name": "ipython",
    "version": 3
   },
   "file_extension": ".py",
   "mimetype": "text/x-python",
   "name": "python",
   "nbconvert_exporter": "python",
   "pygments_lexer": "ipython3",
   "version": "3.7.4"
  }
 },
 "nbformat": 4,
 "nbformat_minor": 2
}
