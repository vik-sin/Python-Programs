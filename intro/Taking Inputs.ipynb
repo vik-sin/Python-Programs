{
 "cells": [
  {
   "cell_type": "code",
   "execution_count": 1,
   "metadata": {},
   "outputs": [
    {
     "name": "stdout",
     "output_type": "stream",
     "text": [
      "5\n",
      "<class 'str'>\n",
      "5\n"
     ]
    }
   ],
   "source": [
    "a= input()\n",
    "print(type(a))\n",
    "print(a)"
   ]
  },
  {
   "cell_type": "code",
   "execution_count": 2,
   "metadata": {},
   "outputs": [
    {
     "name": "stdout",
     "output_type": "stream",
     "text": [
      "12\n",
      "23\n",
      "<class 'str'>\n",
      "1223\n"
     ]
    }
   ],
   "source": [
    "a = input()   # input function is treating  input value as a string\n",
    "b = input()\n",
    "print(type(a))\n",
    "s= a+b\n",
    "print(s)"
   ]
  },
  {
   "cell_type": "markdown",
   "metadata": {},
   "source": [
    "#### int() command is used to convert string / float / boolean value to integer."
   ]
  },
  {
   "cell_type": "code",
   "execution_count": 3,
   "metadata": {},
   "outputs": [
    {
     "name": "stdout",
     "output_type": "stream",
     "text": [
      "<class 'bool'>\n",
      "<class 'int'>\n",
      "1\n"
     ]
    }
   ],
   "source": [
    "b=True\n",
    "print(type(b))\n",
    "c=int(b)\n",
    "print(type(c))\n",
    "print(c)"
   ]
  },
  {
   "cell_type": "code",
   "execution_count": 4,
   "metadata": {},
   "outputs": [
    {
     "name": "stdout",
     "output_type": "stream",
     "text": [
      "25\n",
      "35\n",
      "60\n"
     ]
    }
   ],
   "source": [
    "a = int(input())  # int function is converting input value to integer.\n",
    "b = int(input())\n",
    "s= a+b\n",
    "print(s)"
   ]
  },
  {
   "cell_type": "code",
   "execution_count": 6,
   "metadata": {},
   "outputs": [
    {
     "name": "stdout",
     "output_type": "stream",
     "text": [
      "7\n"
     ]
    },
    {
     "data": {
      "text/plain": [
       "7.0"
      ]
     },
     "execution_count": 6,
     "metadata": {},
     "output_type": "execute_result"
    }
   ],
   "source": [
    "x= float(input()) # taking input values as well\n",
    "x"
   ]
  },
  {
   "cell_type": "markdown",
   "metadata": {},
   "source": [
    "#### Calculating simple interest"
   ]
  },
  {
   "cell_type": "code",
   "execution_count": 10,
   "metadata": {},
   "outputs": [
    {
     "name": "stdout",
     "output_type": "stream",
     "text": [
      "Enter principal 1000\n",
      "Enter rate 6\n",
      "Enter time period in years 2\n",
      "Simple Interest is Rs. 120.0\n"
     ]
    }
   ],
   "source": [
    "p= float(input(\"Enter principal \"))\n",
    "r= float(input(\"Enter rate \"))\n",
    "t= float(input(\"Enter time period in years \"))\n",
    "si=(p*r*t)/100\n",
    "print(\"Simple Interest is Rs.\",si)"
   ]
  },
  {
   "cell_type": "markdown",
   "metadata": {},
   "source": [
    "#### Fahreneit to Celcius conversion"
   ]
  },
  {
   "cell_type": "code",
   "execution_count": 12,
   "metadata": {},
   "outputs": [
    {
     "name": "stdout",
     "output_type": "stream",
     "text": [
      "Enter temperature in Fehreneit50\n",
      "Temerature is 10.0 degrees Celsius.\n"
     ]
    }
   ],
   "source": [
    "f = float(input(\"Enter temperature in Fehreneit\"))\n",
    "c= (f-32)*5/9\n",
    "print(\"Temerature is\",c,\"degrees Celsius.\")"
   ]
  },
  {
   "cell_type": "code",
   "execution_count": null,
   "metadata": {},
   "outputs": [],
   "source": []
  }
 ],
 "metadata": {
  "kernelspec": {
   "display_name": "Python 3",
   "language": "python",
   "name": "python3"
  },
  "language_info": {
   "codemirror_mode": {
    "name": "ipython",
    "version": 3
   },
   "file_extension": ".py",
   "mimetype": "text/x-python",
   "name": "python",
   "nbconvert_exporter": "python",
   "pygments_lexer": "ipython3",
   "version": "3.7.4"
  }
 },
 "nbformat": 4,
 "nbformat_minor": 2
}
