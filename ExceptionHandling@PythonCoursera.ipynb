{
 "cells": [
  {
   "cell_type": "code",
   "execution_count": 4,
   "metadata": {},
   "outputs": [
    {
     "name": "stdout",
     "output_type": "stream",
     "text": [
      "Enter a number: 7\n",
      "Enter a number: 2\n",
      "Enter a number: bob\n",
      "Invalid input\n",
      "Enter a number: 10\n",
      "Enter a number: 4\n",
      "Enter a number: done\n",
      "Maximum is 10\n",
      "Minimum is 2\n"
     ]
    }
   ],
   "source": [
    "i=1\n",
    "n= None\n",
    "while True:\n",
    "    num = (input(\"Enter a number: \"))\n",
    "    if num == \"done\":\n",
    "        print(\"Maximum is\", largest)\n",
    "        print(\"Minimum is\", smallest)\n",
    "        break\n",
    "       \n",
    "    try:\n",
    "        n= int(num)\n",
    "        if i==1:\n",
    "            largest=n\n",
    "            smallest=n\n",
    "            i= i+1\n",
    "    \n",
    "    except:\n",
    "        print(\"Invalid input\")\n",
    "        \n",
    "    if n>largest:\n",
    "        largest= n\n",
    "        \n",
    "    if n<smallest:\n",
    "        smallest= n"
   ]
  },
  {
   "cell_type": "code",
   "execution_count": null,
   "metadata": {},
   "outputs": [],
   "source": []
  }
 ],
 "metadata": {
  "kernelspec": {
   "display_name": "Python 3",
   "language": "python",
   "name": "python3"
  },
  "language_info": {
   "codemirror_mode": {
    "name": "ipython",
    "version": 3
   },
   "file_extension": ".py",
   "mimetype": "text/x-python",
   "name": "python",
   "nbconvert_exporter": "python",
   "pygments_lexer": "ipython3",
   "version": "3.7.4"
  }
 },
 "nbformat": 4,
 "nbformat_minor": 2
}
