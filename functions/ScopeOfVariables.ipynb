{
 "cells": [
  {
   "cell_type": "code",
   "execution_count": 5,
   "metadata": {},
   "outputs": [
    {
     "name": "stdout",
     "output_type": "stream",
     "text": [
      "10\n",
      "12\n"
     ]
    }
   ],
   "source": [
    "a1=10    #global variable\n",
    "def f1():\n",
    "    b1=12\n",
    "    print(b1)   #local variable\n",
    "print(a1) \n",
    "f1()\n",
    "#can't print local variable outside a function.    "
   ]
  },
  {
   "cell_type": "code",
   "execution_count": 6,
   "metadata": {},
   "outputs": [
    {
     "name": "stdout",
     "output_type": "stream",
     "text": [
      "10\n",
      "12\n",
      "10\n"
     ]
    }
   ],
   "source": [
    "a2= 10    #global variable\n",
    "def f2():\n",
    "    b2=12\n",
    "    print(b2)   #local variable\n",
    "    print(a2)\n",
    "    \n",
    "print(a2) \n",
    "f2()\n"
   ]
  },
  {
   "cell_type": "code",
   "execution_count": 8,
   "metadata": {},
   "outputs": [
    {
     "name": "stdout",
     "output_type": "stream",
     "text": [
      "10\n",
      "12\n"
     ]
    }
   ],
   "source": [
    "# can access any global variable defined before the function call\n",
    "def f3():\n",
    "    b3= 12\n",
    "    print(b3)   #local variable\n",
    "\n",
    "a3= 10    #global variable    \n",
    "print(a3) \n",
    "f3()"
   ]
  },
  {
   "cell_type": "code",
   "execution_count": 9,
   "metadata": {},
   "outputs": [
    {
     "name": "stdout",
     "output_type": "stream",
     "text": [
      "13\n",
      "12\n",
      "13\n"
     ]
    }
   ],
   "source": [
    "a4= 13\n",
    "def f4():\n",
    "    a4= 12\n",
    "    print(a4)\n",
    "print(a4)\n",
    "f4()\n",
    "print(a4)"
   ]
  },
  {
   "cell_type": "code",
   "execution_count": 10,
   "metadata": {},
   "outputs": [
    {
     "name": "stdout",
     "output_type": "stream",
     "text": [
      "13\n",
      "12\n",
      "12\n"
     ]
    }
   ],
   "source": [
    "a5= 13\n",
    "def f5():\n",
    "    global a5\n",
    "    a5= 12\n",
    "    print(a5)\n",
    "    \n",
    "print(a5)\n",
    "f5()\n",
    "print(a5)"
   ]
  },
  {
   "cell_type": "code",
   "execution_count": 12,
   "metadata": {},
   "outputs": [
    {
     "ename": "SyntaxError",
     "evalue": "name 'a6' is used prior to global declaration (<ipython-input-12-1517ca5aebd4>, line 8)",
     "output_type": "error",
     "traceback": [
      "\u001b[1;36m  File \u001b[1;32m\"<ipython-input-12-1517ca5aebd4>\"\u001b[1;36m, line \u001b[1;32m8\u001b[0m\n\u001b[1;33m    \u001b[0m\n\u001b[1;37m    ^\u001b[0m\n\u001b[1;31mSyntaxError\u001b[0m\u001b[1;31m:\u001b[0m name 'a6' is used prior to global declaration\n"
     ]
    }
   ],
   "source": [
    "a6= 13\n",
    "def f6():\n",
    "    a6= 5\n",
    "    print(a6)\n",
    "    global a6\n",
    "    a6= 12\n",
    "    print(a6)\n",
    "    \n",
    "print(a6)\n",
    "f6()\n",
    "print(a6)"
   ]
  },
  {
   "cell_type": "code",
   "execution_count": null,
   "metadata": {},
   "outputs": [],
   "source": []
  }
 ],
 "metadata": {
  "kernelspec": {
   "display_name": "Python 3",
   "language": "python",
   "name": "python3"
  },
  "language_info": {
   "codemirror_mode": {
    "name": "ipython",
    "version": 3
   },
   "file_extension": ".py",
   "mimetype": "text/x-python",
   "name": "python",
   "nbconvert_exporter": "python",
   "pygments_lexer": "ipython3",
   "version": "3.7.4"
  }
 },
 "nbformat": 4,
 "nbformat_minor": 2
}
