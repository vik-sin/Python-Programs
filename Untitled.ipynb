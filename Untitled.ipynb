{
 "cells": [
  {
   "cell_type": "code",
   "execution_count": 12,
   "metadata": {},
   "outputs": [
    {
     "name": "stdout",
     "output_type": "stream",
     "text": [
      "SANTACLAUS\n",
      "HELLOWORLD\n",
      "SANTAWORLDCLAUSHELLO\n",
      "['S', 'A', 'N', 'T', 'A', 'C', 'L', 'A', 'U', 'S', 'H', 'E', 'L', 'L', 'O', 'W', 'O', 'R', 'L', 'D']\n",
      "['S', 'A', 'N', 'T', 'A', 'W', 'O', 'R', 'L', 'D', 'C', 'L', 'A', 'U', 'S', 'H', 'E', 'L', 'L', 'O']\n",
      "['A', 'N', 'T', 'A', 'C', 'L', 'A', 'U', 'S', 'H', 'E', 'L', 'L', 'O', 'W', 'O', 'R', 'L', 'D']\n",
      "['N', 'T', 'A', 'C', 'L', 'A', 'U', 'S', 'H', 'E', 'L', 'L', 'O', 'W', 'O', 'R', 'L', 'D']\n",
      "['T', 'A', 'C', 'L', 'A', 'U', 'S', 'H', 'E', 'L', 'L', 'O', 'W', 'O', 'R', 'L', 'D']\n",
      "['A', 'C', 'L', 'A', 'U', 'S', 'H', 'E', 'L', 'L', 'O', 'W', 'O', 'R', 'L', 'D']\n",
      "['C', 'L', 'A', 'U', 'S', 'H', 'E', 'L', 'L', 'O', 'W', 'O', 'R', 'L', 'D']\n",
      "['C', 'L', 'A', 'U', 'S', 'H', 'E', 'L', 'L', 'O', 'O', 'R', 'L', 'D']\n",
      "['C', 'L', 'A', 'U', 'S', 'H', 'E', 'L', 'L', 'O', 'R', 'L', 'D']\n",
      "['C', 'L', 'A', 'U', 'S', 'H', 'E', 'L', 'L', 'O', 'L', 'D']\n",
      "['C', 'A', 'U', 'S', 'H', 'E', 'L', 'L', 'O', 'L', 'D']\n",
      "['C', 'A', 'U', 'S', 'H', 'E', 'L', 'L', 'O', 'L']\n",
      "['A', 'U', 'S', 'H', 'E', 'L', 'L', 'O', 'L']\n",
      "['A', 'U', 'S', 'H', 'E', 'L', 'O', 'L']\n",
      "['U', 'S', 'H', 'E', 'L', 'O', 'L']\n",
      "['S', 'H', 'E', 'L', 'O', 'L']\n",
      "['H', 'E', 'L', 'O', 'L']\n",
      "['E', 'L', 'O', 'L']\n",
      "['L', 'O', 'L']\n",
      "['O', 'L']\n",
      "['O']\n",
      "[]\n",
      "YES\n"
     ]
    }
   ],
   "source": [
    "s1= [char for char in input()]\n",
    "s2= [char for char in input()]\n",
    "s3= [char for char in input()]\n",
    "s= s1+s2\n",
    "n1= len(s1)\n",
    "n2= len(s2)\n",
    "n3= len(s3)\n",
    "bool= False\n",
    "print(s)\n",
    "print(s3)\n",
    "if (n1+n2==n3):\n",
    "    for i in s3:\n",
    "        if i in s:\n",
    "            s.remove(i)\n",
    "            print(s)\n",
    "        else:\n",
    "            break\n",
    "    else:\n",
    "        bool= True\n",
    "\n",
    "if bool== False:\n",
    "    print(\"NO\")\n",
    "else:\n",
    "    print(\"YES\")"
   ]
  },
  {
   "cell_type": "code",
   "execution_count": null,
   "metadata": {},
   "outputs": [],
   "source": []
  },
  {
   "cell_type": "code",
   "execution_count": 4,
   "metadata": {},
   "outputs": [
    {
     "name": "stdout",
     "output_type": "stream",
     "text": [
      "ABCDEF\n"
     ]
    },
    {
     "data": {
      "text/plain": [
       "['A', 'B', 'C', 'D', 'E', 'F']"
      ]
     },
     "execution_count": 4,
     "metadata": {},
     "output_type": "execute_result"
    }
   ],
   "source": [
    "li= [char for char in input()]\n",
    "li\n"
   ]
  },
  {
   "cell_type": "code",
   "execution_count": 2,
   "metadata": {},
   "outputs": [
    {
     "name": "stdout",
     "output_type": "stream",
     "text": [
      "please input the first number\n",
      "10\n",
      "please input the second number\n",
      "25\n",
      "The GCD of 10 and 25 is 5\n"
     ]
    }
   ],
   "source": [
    "a=int(input(\"please input the first number\\n\"))\n",
    "b=int(input(\"please input the second number\\n\"))\n",
    "gcd=1\n",
    "def min(a,b):\n",
    "\tif a>b:\n",
    "\t    return a,b\n",
    "\telse:\n",
    "\t    return b,a\n",
    "def get_GCD(a,b):\n",
    "    x,y= min(a,b)\n",
    "    if y==0:\n",
    "        return x \n",
    "    else:\n",
    "        return get_GCD(y,x%y)\n",
    "    \n",
    "print(\"The GCD of\", a, \"and\", b, \"is\", get_GCD(a,b) )"
   ]
  },
  {
   "cell_type": "code",
   "execution_count": 11,
   "metadata": {},
   "outputs": [
    {
     "name": "stdout",
     "output_type": "stream",
     "text": [
      "Please input the minimum limit of the prime number series\n",
      "1\n",
      "Please input the maximum limit of the prime number series\n",
      "100\n",
      "The prime numbers within range 1 and 100 is:\n",
      "2, 3, 5, 7, 11, 13, 17, 19, 23, 29, 31, 37, 41, 43, 47, 53, 59, 61, 67, 71, 73, 79, 83, 89, 97, "
     ]
    }
   ],
   "source": [
    "def get_Prime(a,b):\n",
    "    for i in range(a, b+1):\n",
    "        bool= True\n",
    "        for j in range(2,i-1):\n",
    "            if i%j==0:\n",
    "                bool= False\n",
    "                break\n",
    "        if bool== True:\n",
    "            print(i, end=\", \")\n",
    "a=int(input(\"Please input the minimum limit of the prime number series\\n\"))\n",
    "b=int(input(\"Please input the maximum limit of the prime number series\\n\"))\n",
    "print(\"The prime numbers within range\", a, \"and\", b, \"is:\")\n",
    "if a<=1:\n",
    "    a=2\n",
    "if b<=1:\n",
    "    b=2\n",
    "get_Prime(a,b)"
   ]
  },
  {
   "cell_type": "code",
   "execution_count": null,
   "metadata": {},
   "outputs": [],
   "source": []
  }
 ],
 "metadata": {
  "kernelspec": {
   "display_name": "Python 3",
   "language": "python",
   "name": "python3"
  },
  "language_info": {
   "codemirror_mode": {
    "name": "ipython",
    "version": 3
   },
   "file_extension": ".py",
   "mimetype": "text/x-python",
   "name": "python",
   "nbconvert_exporter": "python",
   "pygments_lexer": "ipython3",
   "version": "3.7.4"
  }
 },
 "nbformat": 4,
 "nbformat_minor": 2
}
